{
 "cells": [
  {
   "cell_type": "code",
   "execution_count": 1,
   "metadata": {},
   "outputs": [],
   "source": [
    "import pandas as pd\n",
    "import numpy as np\n",
    "\n",
    "import psycopg2\n",
    "redshift_endpoint = \"boostdatalake.c7h2xtvjdpxd.ap-southeast-1.redshift.amazonaws.com\"\n",
    "redshift_user = \"fabian\"\n",
    "redshift_pass = \"Gtd87jRe\"\n",
    "port = 5439\n",
    "dbname = \"datalake\""
   ]
  },
  {
   "cell_type": "code",
   "execution_count": 2,
   "metadata": {},
   "outputs": [],
   "source": [
    "from sqlalchemy import create_engine\n",
    "from sqlalchemy import text\n",
    "engine_string = \"postgresql+psycopg2://%s:%s@%s:%d/%s\" \\\n",
    "% (redshift_user, redshift_pass, redshift_endpoint, port, dbname)\n",
    "engine = create_engine(engine_string)"
   ]
  },
  {
   "cell_type": "code",
   "execution_count": 17,
   "metadata": {},
   "outputs": [],
   "source": [
    "sql = \"\"\"\n",
    "select\n",
    "identifier, registeredname, merchantcategory, a.vtm_accountid, a.vtm_skucode, a.vtm_additionaldata_outletid, first_dt,\n",
    "sum(gtv) as gtv, count(distinct vac_customerid) as users, count(dt) as txn\n",
    "from\n",
    "(\n",
    "  select vtm_accountid, vtm_skucode, vtm_additionaldata_outletid, abs(vtm_amount)/100.0 as gtv, vac_customerid, vtc_datecreated as dt \n",
    "  from aggregation_layer.transaction_customer_merchant\n",
    "  where dt >= '2021-01-01'\n",
    "  and vtm_type = 'PAYMENT' and vtc_category = 'PAYMENT'\n",
    ") as a\n",
    "\n",
    "inner join (select * from csv_files.merchantlist_mongo where identifier in ('MCM0087953', 'MCM0087956', 'MCM0109085')) as b\n",
    "on a.vtm_accountid = b.merchantaccountid\n",
    "\n",
    "left join (\n",
    "  select vtm_accountid, vtm_skucode, vtm_additionaldata_outletid, min(vtc_datecreated) as first_dt from aggregation_layer.transaction_customer_merchant\n",
    "  group by 1, 2, 3\n",
    "  having first_dt >= '2021-01-01'\n",
    ") as c\n",
    "on a.vtm_accountid = c.vtm_accountid\n",
    "and a.vtm_skucode = c.vtm_skucode\n",
    "and a.vtm_additionaldata_outletid = c.vtm_additionaldata_outletid\n",
    "\n",
    "group by 1, 2, 3, 4, 5, 6, 7\n",
    "order by 1, 5, 6\n",
    "\"\"\""
   ]
  },
  {
   "cell_type": "code",
   "execution_count": 7,
   "metadata": {},
   "outputs": [],
   "source": [
    "sql = \"\"\"\n",
    "--select distinct registeredname, mcmid, merchantaccountid, skucode, additionaldata_outletid, partner_, vertical\n",
    "--from public.online_table_new where dt >= '2020-01-01'\n",
    "select * from csv_files.merchantlist_mongo\n",
    "\"\"\""
   ]
  },
  {
   "cell_type": "code",
   "execution_count": 8,
   "metadata": {},
   "outputs": [],
   "source": [
    "sql = \"\"\"\n",
    "select\n",
    "distinct identifier, registeredname, merchantcategory, a.vtm_accountid, a.vtm_skucode, a.vtm_additionaldata_outletid\n",
    "from\n",
    "(\n",
    "  select vtm_accountid, vtm_skucode, vtm_additionaldata_outletid\n",
    "  from aggregation_layer.transaction_customer_merchant\n",
    "  \n",
    ") as a\n",
    "\n",
    "inner join \n",
    "(select * from csv_files.merchantlist_mongo where identifier in ('MCM0115835') -- ala carte \n",
    ") as b\n",
    "on a.vtm_accountid = b.merchantaccountid\n",
    "order by 1, 5, 6\n",
    "\"\"\""
   ]
  },
  {
   "cell_type": "code",
   "execution_count": 8,
   "metadata": {},
   "outputs": [],
   "source": [
    "df = pd.read_sql_query(text(sql), engine)"
   ]
  },
  {
   "cell_type": "code",
   "execution_count": 9,
   "metadata": {},
   "outputs": [
    {
     "data": {
      "text/html": [
       "<div>\n",
       "<style scoped>\n",
       "    .dataframe tbody tr th:only-of-type {\n",
       "        vertical-align: middle;\n",
       "    }\n",
       "\n",
       "    .dataframe tbody tr th {\n",
       "        vertical-align: top;\n",
       "    }\n",
       "\n",
       "    .dataframe thead th {\n",
       "        text-align: right;\n",
       "    }\n",
       "</style>\n",
       "<table border=\"1\" class=\"dataframe\">\n",
       "  <thead>\n",
       "    <tr style=\"text-align: right;\">\n",
       "      <th></th>\n",
       "      <th>identifier</th>\n",
       "      <th>merchantcategory</th>\n",
       "      <th>businessprofileid</th>\n",
       "      <th>merchantaccountid</th>\n",
       "      <th>merchantid</th>\n",
       "      <th>type</th>\n",
       "      <th>registeredname</th>\n",
       "    </tr>\n",
       "  </thead>\n",
       "  <tbody>\n",
       "    <tr>\n",
       "      <th>0</th>\n",
       "      <td>MCM0008842</td>\n",
       "      <td>RETAIL</td>\n",
       "      <td>5cf0787fb5618f4208d31400</td>\n",
       "      <td>5cf08ad4b5618f4208d530d5</td>\n",
       "      <td>5cf083dab5618f4208d3ca53</td>\n",
       "      <td>COMPANY</td>\n",
       "      <td>BUYTICKETS</td>\n",
       "    </tr>\n",
       "    <tr>\n",
       "      <th>1</th>\n",
       "      <td>MCM0008870</td>\n",
       "      <td>RETAIL</td>\n",
       "      <td>5cf0787fb5618f4208d3141c</td>\n",
       "      <td>5cf08ad4b5618f4208d530f1</td>\n",
       "      <td>5cf083dab5618f4208d3ca5e</td>\n",
       "      <td>COMPANY</td>\n",
       "      <td>Nardell Sdn Bhd</td>\n",
       "    </tr>\n",
       "    <tr>\n",
       "      <th>2</th>\n",
       "      <td>MCM0008898</td>\n",
       "      <td>RETAIL</td>\n",
       "      <td>5cf0787fb5618f4208d31438</td>\n",
       "      <td>5cf08ad4b5618f4208d5310d</td>\n",
       "      <td>5cf083dab5618f4208d3ca69</td>\n",
       "      <td>COMPANY</td>\n",
       "      <td>PD Beach Coconut Milkshake</td>\n",
       "    </tr>\n",
       "    <tr>\n",
       "      <th>3</th>\n",
       "      <td>MCM0008926</td>\n",
       "      <td>INDIVIDUAL</td>\n",
       "      <td>5cf0787fb5618f4208d31454</td>\n",
       "      <td>5cf08ad4b5618f4208d53129</td>\n",
       "      <td>5cf08446b5618f4208d43032</td>\n",
       "      <td>INDIVIDUAL</td>\n",
       "      <td></td>\n",
       "    </tr>\n",
       "    <tr>\n",
       "      <th>4</th>\n",
       "      <td>MCM0008954</td>\n",
       "      <td>INDIVIDUAL</td>\n",
       "      <td>5cf0787fb5618f4208d31470</td>\n",
       "      <td>5cf08ad4b5618f4208d53145</td>\n",
       "      <td>5cf08446b5618f4208d43049</td>\n",
       "      <td>INDIVIDUAL</td>\n",
       "      <td></td>\n",
       "    </tr>\n",
       "  </tbody>\n",
       "</table>\n",
       "</div>"
      ],
      "text/plain": [
       "   identifier merchantcategory         businessprofileid  \\\n",
       "0  MCM0008842           RETAIL  5cf0787fb5618f4208d31400   \n",
       "1  MCM0008870           RETAIL  5cf0787fb5618f4208d3141c   \n",
       "2  MCM0008898           RETAIL  5cf0787fb5618f4208d31438   \n",
       "3  MCM0008926       INDIVIDUAL  5cf0787fb5618f4208d31454   \n",
       "4  MCM0008954       INDIVIDUAL  5cf0787fb5618f4208d31470   \n",
       "\n",
       "          merchantaccountid                merchantid        type  \\\n",
       "0  5cf08ad4b5618f4208d530d5  5cf083dab5618f4208d3ca53     COMPANY   \n",
       "1  5cf08ad4b5618f4208d530f1  5cf083dab5618f4208d3ca5e     COMPANY   \n",
       "2  5cf08ad4b5618f4208d5310d  5cf083dab5618f4208d3ca69     COMPANY   \n",
       "3  5cf08ad4b5618f4208d53129  5cf08446b5618f4208d43032  INDIVIDUAL   \n",
       "4  5cf08ad4b5618f4208d53145  5cf08446b5618f4208d43049  INDIVIDUAL   \n",
       "\n",
       "               registeredname  \n",
       "0                  BUYTICKETS  \n",
       "1             Nardell Sdn Bhd  \n",
       "2  PD Beach Coconut Milkshake  \n",
       "3                              \n",
       "4                              "
      ]
     },
     "execution_count": 9,
     "metadata": {},
     "output_type": "execute_result"
    }
   ],
   "source": [
    "df.head()"
   ]
  },
  {
   "cell_type": "code",
   "execution_count": 10,
   "metadata": {},
   "outputs": [],
   "source": [
    "df.to_excel('20210722_MerchantList_Mongo.xlsx')"
   ]
  },
  {
   "cell_type": "code",
   "execution_count": null,
   "metadata": {},
   "outputs": [],
   "source": []
  }
 ],
 "metadata": {
  "kernelspec": {
   "display_name": "Python 3",
   "language": "python",
   "name": "python3"
  },
  "language_info": {
   "codemirror_mode": {
    "name": "ipython",
    "version": 3
   },
   "file_extension": ".py",
   "mimetype": "text/x-python",
   "name": "python",
   "nbconvert_exporter": "python",
   "pygments_lexer": "ipython3",
   "version": "3.8.3"
  }
 },
 "nbformat": 4,
 "nbformat_minor": 4
}
